{
 "cells": [
  {
   "cell_type": "code",
   "execution_count": 1,
   "metadata": {},
   "outputs": [],
   "source": [
    "#single,multi level inheritance\n",
    "class A:\n",
    "    def features1(self):\n",
    "        print('feature1')\n",
    "    def features2(self):\n",
    "        print('feature2')\n",
    "class B(A):\n",
    "    def features3(self):\n",
    "        print('feature3')\n",
    "    def features4(self):\n",
    "        print('feature4')\n",
    "class C(B):\n",
    "    def features5(self):\n",
    "        print('feature5')\n"
   ]
  },
  {
   "cell_type": "code",
   "execution_count": 7,
   "metadata": {},
   "outputs": [],
   "source": [
    "a=C()"
   ]
  },
  {
   "cell_type": "code",
   "execution_count": 8,
   "metadata": {},
   "outputs": [
    {
     "name": "stdout",
     "output_type": "stream",
     "text": [
      "feature1\n"
     ]
    }
   ],
   "source": [
    "a.features1()"
   ]
  }
 ],
 "metadata": {
  "kernelspec": {
   "display_name": "Python 3",
   "language": "python",
   "name": "python3"
  },
  "language_info": {
   "codemirror_mode": {
    "name": "ipython",
    "version": 3
   },
   "file_extension": ".py",
   "mimetype": "text/x-python",
   "name": "python",
   "nbconvert_exporter": "python",
   "pygments_lexer": "ipython3",
   "version": "3.11.1"
  },
  "orig_nbformat": 4,
  "vscode": {
   "interpreter": {
    "hash": "8edbb0d3f40c2802eb7ad62fd70c65dcbbbe77418e4cb9f034c063b3c890c34a"
   }
  }
 },
 "nbformat": 4,
 "nbformat_minor": 2
}
