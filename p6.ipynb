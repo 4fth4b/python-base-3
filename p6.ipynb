{
 "cells": [
  {
   "cell_type": "code",
   "execution_count": 1,
   "metadata": {},
   "outputs": [],
   "source": [
    "#consturctor in inheritance\n",
    "class A:\n",
    "    def __init__(self):\n",
    "        print('A init')\n",
    "    def features1(self):\n",
    "        print('feature1')\n",
    "    def features2(self):\n",
    "        print('feature2')\n",
    "class B(A):\n",
    "    def __init__(self):\n",
    "        super().__init__() #only takes the first init from the left\n",
    "        print('B init')\n",
    "    def features3(self):\n",
    "        super().features2()\n",
    "        print('feature3')\n",
    "    def features4(self):\n",
    "        print('feature4')    \n"
   ]
  },
  {
   "cell_type": "code",
   "execution_count": 2,
   "metadata": {},
   "outputs": [
    {
     "name": "stdout",
     "output_type": "stream",
     "text": [
      "A init\n",
      "B init\n"
     ]
    }
   ],
   "source": [
    "b1=B()"
   ]
  },
  {
   "cell_type": "code",
   "execution_count": 3,
   "metadata": {},
   "outputs": [
    {
     "name": "stdout",
     "output_type": "stream",
     "text": [
      "feature2\n",
      "feature3\n"
     ]
    }
   ],
   "source": [
    "b1.features3()"
   ]
  },
  {
   "cell_type": "code",
   "execution_count": 4,
   "metadata": {},
   "outputs": [
    {
     "name": "stdout",
     "output_type": "stream",
     "text": [
      "Mike Olsen\n"
     ]
    }
   ],
   "source": [
    "class Person:\n",
    "  def __init__(self, fname, lname):\n",
    "    self.firstname = fname\n",
    "    self.lastname = lname\n",
    "\n",
    "  def printname(self):\n",
    "    print(self.firstname, self.lastname)\n",
    "\n",
    "class Student(Person):\n",
    "  def __init__(self, fname, lname):\n",
    "    super().__init__(fname, lname)\n",
    "\n",
    "x = Student(\"Mike\", \"Olsen\")\n",
    "x.printname()"
   ]
  }
 ],
 "metadata": {
  "kernelspec": {
   "display_name": "Python 3",
   "language": "python",
   "name": "python3"
  },
  "language_info": {
   "codemirror_mode": {
    "name": "ipython",
    "version": 3
   },
   "file_extension": ".py",
   "mimetype": "text/x-python",
   "name": "python",
   "nbconvert_exporter": "python",
   "pygments_lexer": "ipython3",
   "version": "3.11.1"
  },
  "orig_nbformat": 4,
  "vscode": {
   "interpreter": {
    "hash": "8edbb0d3f40c2802eb7ad62fd70c65dcbbbe77418e4cb9f034c063b3c890c34a"
   }
  }
 },
 "nbformat": 4,
 "nbformat_minor": 2
}
