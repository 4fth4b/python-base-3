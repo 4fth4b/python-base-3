{
 "cells": [
  {
   "cell_type": "code",
   "execution_count": 1,
   "metadata": {},
   "outputs": [],
   "source": [
    "#Inner class\n",
    "class student:\n",
    "    def __init__(self,name,rollno):\n",
    "        self.name=name\n",
    "        self.rollno=rollno\n",
    "        self.lap=self.laptop()\n",
    "    def show1(self):\n",
    "        print(self.name,self.rollno)\n",
    "        self.lap.show()\n",
    "    class laptop:\n",
    "        def __init__(self):\n",
    "            self.brand='HP'\n",
    "            self.cpu='ryzen'\n",
    "            self.ram=16\n",
    "        def show(self):\n",
    "            print(self.brand,self.cpu,self.ram)"
   ]
  },
  {
   "cell_type": "code",
   "execution_count": 2,
   "metadata": {},
   "outputs": [],
   "source": [
    "s1=student('Afthab',9)"
   ]
  },
  {
   "cell_type": "code",
   "execution_count": 3,
   "metadata": {},
   "outputs": [
    {
     "data": {
      "text/plain": [
       "'HP'"
      ]
     },
     "execution_count": 3,
     "metadata": {},
     "output_type": "execute_result"
    }
   ],
   "source": [
    "s1.lap.brand"
   ]
  },
  {
   "cell_type": "code",
   "execution_count": 5,
   "metadata": {},
   "outputs": [
    {
     "name": "stdout",
     "output_type": "stream",
     "text": [
      "Afthab 9\n",
      "HP ryzen 16\n"
     ]
    }
   ],
   "source": [
    "s1.show1()"
   ]
  },
  {
   "cell_type": "code",
   "execution_count": 6,
   "metadata": {},
   "outputs": [],
   "source": [
    "lap1=student.laptop()"
   ]
  },
  {
   "cell_type": "code",
   "execution_count": 7,
   "metadata": {},
   "outputs": [
    {
     "name": "stdout",
     "output_type": "stream",
     "text": [
      "HP ryzen 16\n"
     ]
    }
   ],
   "source": [
    "lap1.show()"
   ]
  }
 ],
 "metadata": {
  "kernelspec": {
   "display_name": "Python 3",
   "language": "python",
   "name": "python3"
  },
  "language_info": {
   "codemirror_mode": {
    "name": "ipython",
    "version": 3
   },
   "file_extension": ".py",
   "mimetype": "text/x-python",
   "name": "python",
   "nbconvert_exporter": "python",
   "pygments_lexer": "ipython3",
   "version": "3.11.1"
  },
  "orig_nbformat": 4,
  "vscode": {
   "interpreter": {
    "hash": "8edbb0d3f40c2802eb7ad62fd70c65dcbbbe77418e4cb9f034c063b3c890c34a"
   }
  }
 },
 "nbformat": 4,
 "nbformat_minor": 2
}
