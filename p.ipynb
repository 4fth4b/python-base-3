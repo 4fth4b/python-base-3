{
 "cells": [
  {
   "cell_type": "code",
   "execution_count": 3,
   "metadata": {},
   "outputs": [
    {
     "name": "stdout",
     "output_type": "stream",
     "text": [
      "Afthab\n"
     ]
    },
    {
     "data": {
      "text/plain": [
       "22"
      ]
     },
     "execution_count": 3,
     "metadata": {},
     "output_type": "execute_result"
    }
   ],
   "source": [
    "class person:\n",
    "    def __init__(self):\n",
    "        self.name='Afthab'\n",
    "        self.age=21\n",
    "    def update(self):\n",
    "        self.age=22\n",
    "c1=person()\n",
    "c1.update()\n",
    "print(c1.name)\n",
    "c1.age"
   ]
  },
  {
   "cell_type": "code",
   "execution_count": 19,
   "metadata": {},
   "outputs": [
    {
     "data": {
      "text/plain": [
       "True"
      ]
     },
     "execution_count": 19,
     "metadata": {},
     "output_type": "execute_result"
    }
   ],
   "source": [
    "class a:\n",
    "    def __init__(self,name,age):\n",
    "        self.name=name\n",
    "        self.age=age\n",
    "    def compare(self,other):\n",
    "        if self.age==other.age:\n",
    "            return True\n",
    "        else:\n",
    "            return False    \n",
    "a1=a('Afthab',56)\n",
    "a2=a('Rock',56)\n",
    "a.compare(a1,a2)\n",
    "\n"
   ]
  },
  {
   "cell_type": "code",
   "execution_count": 23,
   "metadata": {},
   "outputs": [
    {
     "data": {
      "text/plain": [
       "'not equal'"
      ]
     },
     "execution_count": 23,
     "metadata": {},
     "output_type": "execute_result"
    }
   ],
   "source": [
    "class a:\n",
    "    def __init__(self,age):\n",
    "        self.age=age\n",
    "    def addition(self,other):\n",
    "        if self.age==other.age:\n",
    "            return self.age+other.age\n",
    "        else:\n",
    "            return('not equal')    \n",
    "a1=a(20)\n",
    "a2=a(50)\n",
    "a.addition(a1,a2)"
   ]
  },
  {
   "cell_type": "code",
   "execution_count": 39,
   "metadata": {},
   "outputs": [
    {
     "name": "stdout",
     "output_type": "stream",
     "text": [
      "16 BMW 8\n",
      "18 Merc 8\n",
      "21 maruti 9\n"
     ]
    }
   ],
   "source": [
    "class car:\n",
    "    wheel=8\n",
    "    def __init__(self,mil,name):\n",
    "        self.mil=mil\n",
    "        self.name=name\n",
    "    def change(self):\n",
    "        self.mil=21\n",
    "        self.name='maruti'\n",
    "        self.wheel=self.wheel\n",
    "        self.wheel=9\n",
    "        return self.name\n",
    "c1=car(16,'BMW')\n",
    "c2=car(18,'Merc')\n",
    "c3=car(12,'lambo')  \n",
    "c3.change()\n",
    "print(c1.mil,c1.name,c1.wheel)\n",
    "print(c2.mil,c2.name,c2.wheel)\n",
    "print(c3.mil,c3.name,c3.wheel)\n",
    "  \n",
    "   "
   ]
  }
 ],
 "metadata": {
  "kernelspec": {
   "display_name": "Python 3",
   "language": "python",
   "name": "python3"
  },
  "language_info": {
   "codemirror_mode": {
    "name": "ipython",
    "version": 3
   },
   "file_extension": ".py",
   "mimetype": "text/x-python",
   "name": "python",
   "nbconvert_exporter": "python",
   "pygments_lexer": "ipython3",
   "version": "3.11.1"
  },
  "orig_nbformat": 4,
  "vscode": {
   "interpreter": {
    "hash": "8edbb0d3f40c2802eb7ad62fd70c65dcbbbe77418e4cb9f034c063b3c890c34a"
   }
  }
 },
 "nbformat": 4,
 "nbformat_minor": 2
}
