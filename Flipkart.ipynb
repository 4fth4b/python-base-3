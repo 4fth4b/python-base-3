{
 "cells": [
  {
   "cell_type": "code",
   "execution_count": 1,
   "id": "154edaaf",
   "metadata": {},
   "outputs": [],
   "source": [
    "import pandas as pd"
   ]
  },
  {
   "cell_type": "code",
   "execution_count": 2,
   "id": "5901383a",
   "metadata": {},
   "outputs": [],
   "source": [
    "import os"
   ]
  },
  {
   "cell_type": "code",
   "execution_count": null,
   "id": "ec7a3ed3",
   "metadata": {},
   "outputs": [],
   "source": [
    "df=pd.read_csv('C:\\\\Users\\\\aftha\\\\OneDrive\\\\Desktop\\\\Flipkart_Mobiles.csv')"
   ]
  },
  {
   "cell_type": "code",
   "execution_count": null,
   "id": "93a0b23a",
   "metadata": {},
   "outputs": [],
   "source": [
    "df1=df.copy()"
   ]
  },
  {
   "cell_type": "code",
   "execution_count": null,
   "id": "f51477cf",
   "metadata": {},
   "outputs": [],
   "source": [
    "df1"
   ]
  },
  {
   "cell_type": "code",
   "execution_count": 16,
   "id": "d3399f74",
   "metadata": {},
   "outputs": [],
   "source": [
    "df2=pd.read_csv('C:\\\\Users\\\\aftha\\\\OneDrive\\\\Desktop\\\\Flipkart_Mobile_brands_scraped_data.csv')"
   ]
  },
  {
   "cell_type": "code",
   "execution_count": 17,
   "id": "06532579",
   "metadata": {},
   "outputs": [
    {
     "data": {
      "text/html": [
       "<div>\n",
       "<style scoped>\n",
       "    .dataframe tbody tr th:only-of-type {\n",
       "        vertical-align: middle;\n",
       "    }\n",
       "\n",
       "    .dataframe tbody tr th {\n",
       "        vertical-align: top;\n",
       "    }\n",
       "\n",
       "    .dataframe thead th {\n",
       "        text-align: right;\n",
       "    }\n",
       "</style>\n",
       "<table border=\"1\" class=\"dataframe\">\n",
       "  <thead>\n",
       "    <tr style=\"text-align: right;\">\n",
       "      <th></th>\n",
       "      <th>Brand</th>\n",
       "      <th>Model</th>\n",
       "      <th>Color</th>\n",
       "      <th>Memory</th>\n",
       "      <th>Storage</th>\n",
       "      <th>Rating</th>\n",
       "      <th>Selling Price</th>\n",
       "      <th>Original Price</th>\n",
       "    </tr>\n",
       "  </thead>\n",
       "  <tbody>\n",
       "    <tr>\n",
       "      <th>0</th>\n",
       "      <td>OPPO</td>\n",
       "      <td>A53</td>\n",
       "      <td>Moonlight Black</td>\n",
       "      <td>4 GB</td>\n",
       "      <td>64 GB</td>\n",
       "      <td>4.5</td>\n",
       "      <td>11990.0</td>\n",
       "      <td>15990.0</td>\n",
       "    </tr>\n",
       "    <tr>\n",
       "      <th>1</th>\n",
       "      <td>OPPO</td>\n",
       "      <td>A53</td>\n",
       "      <td>Mint Cream</td>\n",
       "      <td>4 GB</td>\n",
       "      <td>64 GB</td>\n",
       "      <td>4.5</td>\n",
       "      <td>11990.0</td>\n",
       "      <td>15990.0</td>\n",
       "    </tr>\n",
       "    <tr>\n",
       "      <th>2</th>\n",
       "      <td>OPPO</td>\n",
       "      <td>A53</td>\n",
       "      <td>Moonlight Black</td>\n",
       "      <td>6 GB</td>\n",
       "      <td>128 GB</td>\n",
       "      <td>4.3</td>\n",
       "      <td>13990.0</td>\n",
       "      <td>17990.0</td>\n",
       "    </tr>\n",
       "    <tr>\n",
       "      <th>3</th>\n",
       "      <td>OPPO</td>\n",
       "      <td>A53</td>\n",
       "      <td>Mint Cream</td>\n",
       "      <td>6 GB</td>\n",
       "      <td>128 GB</td>\n",
       "      <td>4.3</td>\n",
       "      <td>13990.0</td>\n",
       "      <td>17990.0</td>\n",
       "    </tr>\n",
       "    <tr>\n",
       "      <th>4</th>\n",
       "      <td>OPPO</td>\n",
       "      <td>A53</td>\n",
       "      <td>Electric Black</td>\n",
       "      <td>4 GB</td>\n",
       "      <td>64 GB</td>\n",
       "      <td>4.5</td>\n",
       "      <td>11990.0</td>\n",
       "      <td>15990.0</td>\n",
       "    </tr>\n",
       "    <tr>\n",
       "      <th>...</th>\n",
       "      <td>...</td>\n",
       "      <td>...</td>\n",
       "      <td>...</td>\n",
       "      <td>...</td>\n",
       "      <td>...</td>\n",
       "      <td>...</td>\n",
       "      <td>...</td>\n",
       "      <td>...</td>\n",
       "    </tr>\n",
       "    <tr>\n",
       "      <th>2642</th>\n",
       "      <td>Xiaomi</td>\n",
       "      <td>Redmi Y3</td>\n",
       "      <td>Bold Red</td>\n",
       "      <td>4 GB</td>\n",
       "      <td>64 GB</td>\n",
       "      <td>4.3</td>\n",
       "      <td>12999.0</td>\n",
       "      <td>13999.0</td>\n",
       "    </tr>\n",
       "    <tr>\n",
       "      <th>2643</th>\n",
       "      <td>Xiaomi</td>\n",
       "      <td>Redmi Y3</td>\n",
       "      <td>Elegant Blue</td>\n",
       "      <td>3 GB</td>\n",
       "      <td>32 GB</td>\n",
       "      <td>4.3</td>\n",
       "      <td>9450.0</td>\n",
       "      <td>NaN</td>\n",
       "    </tr>\n",
       "    <tr>\n",
       "      <th>2644</th>\n",
       "      <td>Xiaomi</td>\n",
       "      <td>Redmi Y3</td>\n",
       "      <td>Elegant Blue</td>\n",
       "      <td>4 GB</td>\n",
       "      <td>64 GB</td>\n",
       "      <td>4.2</td>\n",
       "      <td>12999.0</td>\n",
       "      <td>NaN</td>\n",
       "    </tr>\n",
       "    <tr>\n",
       "      <th>2645</th>\n",
       "      <td>Xiaomi</td>\n",
       "      <td>Redmi Y3</td>\n",
       "      <td>Prime Black</td>\n",
       "      <td>3 GB</td>\n",
       "      <td>32 GB</td>\n",
       "      <td>4.2</td>\n",
       "      <td>9950.0</td>\n",
       "      <td>NaN</td>\n",
       "    </tr>\n",
       "    <tr>\n",
       "      <th>2646</th>\n",
       "      <td>Xiaomi</td>\n",
       "      <td>Redmi Y3</td>\n",
       "      <td>Prime Black</td>\n",
       "      <td>4 GB</td>\n",
       "      <td>64 GB</td>\n",
       "      <td>4.3</td>\n",
       "      <td>12499.0</td>\n",
       "      <td>13999.0</td>\n",
       "    </tr>\n",
       "  </tbody>\n",
       "</table>\n",
       "<p>2647 rows × 8 columns</p>\n",
       "</div>"
      ],
      "text/plain": [
       "       Brand      Model            Color Memory Storage  Rating  \\\n",
       "0       OPPO        A53  Moonlight Black   4 GB   64 GB     4.5   \n",
       "1       OPPO        A53       Mint Cream   4 GB   64 GB     4.5   \n",
       "2       OPPO        A53  Moonlight Black   6 GB  128 GB     4.3   \n",
       "3       OPPO        A53       Mint Cream   6 GB  128 GB     4.3   \n",
       "4       OPPO        A53   Electric Black   4 GB   64 GB     4.5   \n",
       "...      ...        ...              ...    ...     ...     ...   \n",
       "2642  Xiaomi  Redmi Y3          Bold Red   4 GB   64 GB     4.3   \n",
       "2643  Xiaomi  Redmi Y3      Elegant Blue   3 GB   32 GB     4.3   \n",
       "2644  Xiaomi  Redmi Y3      Elegant Blue   4 GB   64 GB     4.2   \n",
       "2645  Xiaomi  Redmi Y3       Prime Black   3 GB   32 GB     4.2   \n",
       "2646  Xiaomi  Redmi Y3       Prime Black   4 GB   64 GB     4.3   \n",
       "\n",
       "      Selling Price  Original Price  \n",
       "0           11990.0         15990.0  \n",
       "1           11990.0         15990.0  \n",
       "2           13990.0         17990.0  \n",
       "3           13990.0         17990.0  \n",
       "4           11990.0         15990.0  \n",
       "...             ...             ...  \n",
       "2642        12999.0         13999.0  \n",
       "2643         9450.0             NaN  \n",
       "2644        12999.0             NaN  \n",
       "2645         9950.0             NaN  \n",
       "2646        12499.0         13999.0  \n",
       "\n",
       "[2647 rows x 8 columns]"
      ]
     },
     "execution_count": 17,
     "metadata": {},
     "output_type": "execute_result"
    }
   ],
   "source": [
    "df2"
   ]
  },
  {
   "cell_type": "code",
   "execution_count": 36,
   "id": "11814464",
   "metadata": {},
   "outputs": [
    {
     "data": {
      "text/plain": [
       "Brand             0\n",
       "Model             0\n",
       "Color             0\n",
       "Memory            0\n",
       "Storage           0\n",
       "Rating            0\n",
       "Selling Price     0\n",
       "Original Price    0\n",
       "dtype: int64"
      ]
     },
     "execution_count": 36,
     "metadata": {},
     "output_type": "execute_result"
    }
   ],
   "source": [
    "df2.isna().sum()"
   ]
  },
  {
   "cell_type": "code",
   "execution_count": null,
   "id": "ef612da1",
   "metadata": {},
   "outputs": [],
   "source": [
    "df2.info()"
   ]
  },
  {
   "cell_type": "code",
   "execution_count": 55,
   "id": "781e7184",
   "metadata": {},
   "outputs": [
    {
     "data": {
      "text/plain": [
       "<AxesSubplot:>"
      ]
     },
     "execution_count": 55,
     "metadata": {},
     "output_type": "execute_result"
    },
    {
     "data": {
      "image/png": "[encoded data removed]",
      "text/plain": [
       "<Figure size 432x288 with 1 Axes>"
      ]
     },
     "metadata": {
      "needs_background": "light"
     },
     "output_type": "display_data"
    }
   ],
   "source": [
    "df2['Memory'].value_counts().plot()"
   ]
  },
  {
   "cell_type": "code",
   "execution_count": 54,
   "id": "6a5a5054",
   "metadata": {},
   "outputs": [
    {
     "data": {
      "text/html": [
       "<div>\n",
       "<style scoped>\n",
       "    .dataframe tbody tr th:only-of-type {\n",
       "        vertical-align: middle;\n",
       "    }\n",
       "\n",
       "    .dataframe tbody tr th {\n",
       "        vertical-align: top;\n",
       "    }\n",
       "\n",
       "    .dataframe thead th {\n",
       "        text-align: right;\n",
       "    }\n",
       "</style>\n",
       "<table border=\"1\" class=\"dataframe\">\n",
       "  <thead>\n",
       "    <tr style=\"text-align: right;\">\n",
       "      <th></th>\n",
       "      <th>Rating</th>\n",
       "      <th>Selling Price</th>\n",
       "      <th>Original Price</th>\n",
       "    </tr>\n",
       "    <tr>\n",
       "      <th>Memory</th>\n",
       "      <th></th>\n",
       "      <th></th>\n",
       "      <th></th>\n",
       "    </tr>\n",
       "  </thead>\n",
       "  <tbody>\n",
       "    <tr>\n",
       "      <th>0 MB</th>\n",
       "      <td>4.300000</td>\n",
       "      <td>1882.000000</td>\n",
       "      <td>29852.605779</td>\n",
       "    </tr>\n",
       "    <tr>\n",
       "      <th>0.5 GB</th>\n",
       "      <td>4.000000</td>\n",
       "      <td>6822.000000</td>\n",
       "      <td>29852.605779</td>\n",
       "    </tr>\n",
       "    <tr>\n",
       "      <th>1 GB</th>\n",
       "      <td>3.930857</td>\n",
       "      <td>12729.868571</td>\n",
       "      <td>28335.092207</td>\n",
       "    </tr>\n",
       "    <tr>\n",
       "      <th>1.5 GB</th>\n",
       "      <td>4.140741</td>\n",
       "      <td>11857.592593</td>\n",
       "      <td>28761.301647</td>\n",
       "    </tr>\n",
       "    <tr>\n",
       "      <th>10 MB</th>\n",
       "      <td>4.266667</td>\n",
       "      <td>2062.666667</td>\n",
       "      <td>29852.605779</td>\n",
       "    </tr>\n",
       "    <tr>\n",
       "      <th>100 MB</th>\n",
       "      <td>3.733333</td>\n",
       "      <td>10959.333333</td>\n",
       "      <td>29852.605779</td>\n",
       "    </tr>\n",
       "    <tr>\n",
       "      <th>12 GB</th>\n",
       "      <td>4.251111</td>\n",
       "      <td>67795.066667</td>\n",
       "      <td>66182.646371</td>\n",
       "    </tr>\n",
       "    <tr>\n",
       "      <th>128 MB</th>\n",
       "      <td>2.000000</td>\n",
       "      <td>3986.500000</td>\n",
       "      <td>26023.671483</td>\n",
       "    </tr>\n",
       "    <tr>\n",
       "      <th>153 MB</th>\n",
       "      <td>4.100000</td>\n",
       "      <td>1549.000000</td>\n",
       "      <td>29852.605779</td>\n",
       "    </tr>\n",
       "    <tr>\n",
       "      <th>16 GB</th>\n",
       "      <td>2.150000</td>\n",
       "      <td>93499.000000</td>\n",
       "      <td>107999.000000</td>\n",
       "    </tr>\n",
       "    <tr>\n",
       "      <th>16 MB</th>\n",
       "      <td>2.987500</td>\n",
       "      <td>3353.687500</td>\n",
       "      <td>26569.655057</td>\n",
       "    </tr>\n",
       "    <tr>\n",
       "      <th>18 GB</th>\n",
       "      <td>0.000000</td>\n",
       "      <td>79999.000000</td>\n",
       "      <td>85999.000000</td>\n",
       "    </tr>\n",
       "    <tr>\n",
       "      <th>2 GB</th>\n",
       "      <td>3.997391</td>\n",
       "      <td>18542.022046</td>\n",
       "      <td>27703.026039</td>\n",
       "    </tr>\n",
       "    <tr>\n",
       "      <th>2 MB</th>\n",
       "      <td>4.100000</td>\n",
       "      <td>2299.500000</td>\n",
       "      <td>29852.605779</td>\n",
       "    </tr>\n",
       "    <tr>\n",
       "      <th>256 MB</th>\n",
       "      <td>3.850000</td>\n",
       "      <td>8249.000000</td>\n",
       "      <td>29852.605779</td>\n",
       "    </tr>\n",
       "    <tr>\n",
       "      <th>3 GB</th>\n",
       "      <td>4.079101</td>\n",
       "      <td>19466.065169</td>\n",
       "      <td>26543.338382</td>\n",
       "    </tr>\n",
       "    <tr>\n",
       "      <th>30 MB</th>\n",
       "      <td>3.300000</td>\n",
       "      <td>3400.000000</td>\n",
       "      <td>29852.605779</td>\n",
       "    </tr>\n",
       "    <tr>\n",
       "      <th>32 GB</th>\n",
       "      <td>4.200000</td>\n",
       "      <td>9990.000000</td>\n",
       "      <td>29852.605779</td>\n",
       "    </tr>\n",
       "    <tr>\n",
       "      <th>32 MB</th>\n",
       "      <td>4.078571</td>\n",
       "      <td>2842.857143</td>\n",
       "      <td>29852.605779</td>\n",
       "    </tr>\n",
       "    <tr>\n",
       "      <th>4 GB</th>\n",
       "      <td>4.030015</td>\n",
       "      <td>23250.865685</td>\n",
       "      <td>26472.630207</td>\n",
       "    </tr>\n",
       "    <tr>\n",
       "      <th>4 MB</th>\n",
       "      <td>3.948718</td>\n",
       "      <td>1867.128205</td>\n",
       "      <td>24154.737927</td>\n",
       "    </tr>\n",
       "    <tr>\n",
       "      <th>46 MB</th>\n",
       "      <td>3.850000</td>\n",
       "      <td>2949.500000</td>\n",
       "      <td>16561.302890</td>\n",
       "    </tr>\n",
       "    <tr>\n",
       "      <th>4GB</th>\n",
       "      <td>4.272807</td>\n",
       "      <td>81660.140351</td>\n",
       "      <td>49037.980691</td>\n",
       "    </tr>\n",
       "    <tr>\n",
       "      <th>512 MB</th>\n",
       "      <td>3.812121</td>\n",
       "      <td>5233.575758</td>\n",
       "      <td>27250.350533</td>\n",
       "    </tr>\n",
       "    <tr>\n",
       "      <th>6 GB</th>\n",
       "      <td>3.785564</td>\n",
       "      <td>34472.749621</td>\n",
       "      <td>27415.018478</td>\n",
       "    </tr>\n",
       "    <tr>\n",
       "      <th>64 MB</th>\n",
       "      <td>3.825000</td>\n",
       "      <td>3826.125000</td>\n",
       "      <td>24986.304696</td>\n",
       "    </tr>\n",
       "    <tr>\n",
       "      <th>6GB</th>\n",
       "      <td>4.600000</td>\n",
       "      <td>121718.181818</td>\n",
       "      <td>29852.605779</td>\n",
       "    </tr>\n",
       "    <tr>\n",
       "      <th>717 MB</th>\n",
       "      <td>4.000000</td>\n",
       "      <td>5999.000000</td>\n",
       "      <td>29852.605779</td>\n",
       "    </tr>\n",
       "    <tr>\n",
       "      <th>768 MB</th>\n",
       "      <td>3.766667</td>\n",
       "      <td>6854.833333</td>\n",
       "      <td>29852.605779</td>\n",
       "    </tr>\n",
       "    <tr>\n",
       "      <th>8 GB</th>\n",
       "      <td>4.207576</td>\n",
       "      <td>34406.647727</td>\n",
       "      <td>38263.879957</td>\n",
       "    </tr>\n",
       "    <tr>\n",
       "      <th>8 MB</th>\n",
       "      <td>2.850000</td>\n",
       "      <td>2936.357143</td>\n",
       "      <td>25976.804954</td>\n",
       "    </tr>\n",
       "  </tbody>\n",
       "</table>\n",
       "</div>"
      ],
      "text/plain": [
       "          Rating  Selling Price  Original Price\n",
       "Memory                                         \n",
       "0 MB    4.300000    1882.000000    29852.605779\n",
       "0.5 GB  4.000000    6822.000000    29852.605779\n",
       "1 GB    3.930857   12729.868571    28335.092207\n",
       "1.5 GB  4.140741   11857.592593    28761.301647\n",
       "10 MB   4.266667    2062.666667    29852.605779\n",
       "100 MB  3.733333   10959.333333    29852.605779\n",
       "12 GB   4.251111   67795.066667    66182.646371\n",
       "128 MB  2.000000    3986.500000    26023.671483\n",
       "153 MB  4.100000    1549.000000    29852.605779\n",
       "16 GB   2.150000   93499.000000   107999.000000\n",
       "16 MB   2.987500    3353.687500    26569.655057\n",
       "18 GB   0.000000   79999.000000    85999.000000\n",
       "2 GB    3.997391   18542.022046    27703.026039\n",
       "2 MB    4.100000    2299.500000    29852.605779\n",
       "256 MB  3.850000    8249.000000    29852.605779\n",
       "3 GB    4.079101   19466.065169    26543.338382\n",
       "30 MB   3.300000    3400.000000    29852.605779\n",
       "32 GB   4.200000    9990.000000    29852.605779\n",
       "32 MB   4.078571    2842.857143    29852.605779\n",
       "4 GB    4.030015   23250.865685    26472.630207\n",
       "4 MB    3.948718    1867.128205    24154.737927\n",
       "46 MB   3.850000    2949.500000    16561.302890\n",
       "4GB     4.272807   81660.140351    49037.980691\n",
       "512 MB  3.812121    5233.575758    27250.350533\n",
       "6 GB    3.785564   34472.749621    27415.018478\n",
       "64 MB   3.825000    3826.125000    24986.304696\n",
       "6GB     4.600000  121718.181818    29852.605779\n",
       "717 MB  4.000000    5999.000000    29852.605779\n",
       "768 MB  3.766667    6854.833333    29852.605779\n",
       "8 GB    4.207576   34406.647727    38263.879957\n",
       "8 MB    2.850000    2936.357143    25976.804954"
      ]
     },
     "execution_count": 54,
     "metadata": {},
     "output_type": "execute_result"
    }
   ],
   "source": [
    "df2.groupby('Memory').mean()"
   ]
  },
  {
   "cell_type": "code",
   "execution_count": null,
   "id": "242eabcd",
   "metadata": {},
   "outputs": [],
   "source": [
    "a=df2['Model'].mode()"
   ]
  },
  {
   "cell_type": "code",
   "execution_count": 6,
   "id": "6b289aef",
   "metadata": {},
   "outputs": [
    {
     "data": {
      "text/plain": [
       "Brand             10\n",
       "Model             10\n",
       "Color             10\n",
       "Memory            10\n",
       "Storage           10\n",
       "Rating            10\n",
       "Selling Price     10\n",
       "Original Price     6\n",
       "dtype: int64"
      ]
     },
     "execution_count": 6,
     "metadata": {},
     "output_type": "execute_result"
    }
   ],
   "source": [
    "df2[df2['Model']=='A53'].count()"
   ]
  },
  {
   "cell_type": "code",
   "execution_count": null,
   "id": "d666ff88",
   "metadata": {},
   "outputs": [],
   "source": [
    "#df2['Model'].fillna(value=a)"
   ]
  },
  {
   "cell_type": "code",
   "execution_count": null,
   "id": "2d0f423f",
   "metadata": {},
   "outputs": [],
   "source": [
    "df2['Model'].values_counts()<3"
   ]
  },
  {
   "cell_type": "code",
   "execution_count": null,
   "id": "6a347709",
   "metadata": {},
   "outputs": [],
   "source": [
    "#df2['Model'].interpolate(method='pad',inplace=True)"
   ]
  },
  {
   "cell_type": "code",
   "execution_count": 32,
   "id": "b6f217cd",
   "metadata": {},
   "outputs": [
    {
     "data": {
      "text/plain": [
       "0    iPhone 11 \n",
       "Name: Model, dtype: object"
      ]
     },
     "execution_count": 32,
     "metadata": {},
     "output_type": "execute_result"
    }
   ],
   "source": [
    "df2['Model'].mode()"
   ]
  },
  {
   "cell_type": "code",
   "execution_count": 24,
   "id": "bbf05e5a",
   "metadata": {},
   "outputs": [],
   "source": [
    "df2['Model'].fillna(method='ffill',inplace=True)"
   ]
  },
  {
   "cell_type": "code",
   "execution_count": null,
   "id": "2dec15d2",
   "metadata": {},
   "outputs": [],
   "source": [
    "#df2['Original Price'].fillna(df2['Original Price'].mean(),inplace=True)"
   ]
  },
  {
   "cell_type": "code",
   "execution_count": 19,
   "id": "59f01edb",
   "metadata": {
    "scrolled": true
   },
   "outputs": [
    {
     "data": {
      "text/plain": [
       "0             A53\n",
       "1             A53\n",
       "2             A53\n",
       "3             A53\n",
       "4             A53\n",
       "          ...    \n",
       "2642    Redmi Y3 \n",
       "2643    Redmi Y3 \n",
       "2644    Redmi Y3 \n",
       "2645    Redmi Y3 \n",
       "2646    Redmi Y3 \n",
       "Name: Model, Length: 2647, dtype: object"
      ]
     },
     "execution_count": 19,
     "metadata": {},
     "output_type": "execute_result"
    }
   ],
   "source": [
    "df2['Model']"
   ]
  },
  {
   "cell_type": "code",
   "execution_count": 33,
   "id": "51c714b8",
   "metadata": {},
   "outputs": [],
   "source": [
    "for i in ['Model','Color','Memory','Storage']:\n",
    "    df2[i].fillna(df2[i].mode()[0],inplace=True)\n",
    "\n",
    "     \n",
    "    "
   ]
  },
  {
   "cell_type": "code",
   "execution_count": 35,
   "id": "11acb707",
   "metadata": {},
   "outputs": [],
   "source": [
    "for i in['Original Price','Selling Price']:\n",
    "    df2[i].fillna(df2['Original Price'].mean(),inplace=True)"
   ]
  },
  {
   "cell_type": "code",
   "execution_count": null,
   "id": "12681e37",
   "metadata": {},
   "outputs": [],
   "source": []
  }
 ],
 "metadata": {
  "kernelspec": {
   "display_name": "Python 3 (ipykernel)",
   "language": "python",
   "name": "python3"
  },
  "language_info": {
   "codemirror_mode": {
    "name": "ipython",
    "version": 3
   },
   "file_extension": ".py",
   "mimetype": "text/x-python",
   "name": "python",
   "nbconvert_exporter": "python",
   "pygments_lexer": "ipython3",
   "version": "3.9.12"
  }
 },
 "nbformat": 4,
 "nbformat_minor": 5
}
