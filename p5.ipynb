{
 "cells": [
  {
   "cell_type": "code",
   "execution_count": 40,
   "metadata": {},
   "outputs": [],
   "source": [
    "#multiple inheritance\n",
    "class A:\n",
    "    def __init__(self,b):\n",
    "        self.b=b\n",
    "\n",
    "        \n",
    "\n",
    "    def features1(self):\n",
    "        print('feature1')\n",
    "    def features2(self):\n",
    "        print('feature2')\n",
    "class B():\n",
    "    def __init__(self):\n",
    "        print('init 2')\n",
    "    def features3(self):\n",
    "        print('feature3')\n",
    "    def features4(self):\n",
    "        print('feature4')\n",
    "class C():\n",
    "    def features5(self):\n",
    "        print('feature5')\n",
    "class D(A,B,C):\n",
    "    def __init__(self,b):\n",
    "        super().__init__(b)\n",
    "    def features6(self):\n",
    "        print('feature6')"
   ]
  },
  {
   "cell_type": "code",
   "execution_count": 41,
   "metadata": {},
   "outputs": [],
   "source": [
    "a=D(90)"
   ]
  },
  {
   "cell_type": "code",
   "execution_count": 42,
   "metadata": {},
   "outputs": [
    {
     "name": "stdout",
     "output_type": "stream",
     "text": [
      "feature1\n"
     ]
    }
   ],
   "source": [
    "a.features1()"
   ]
  },
  {
   "cell_type": "code",
   "execution_count": null,
   "metadata": {},
   "outputs": [],
   "source": []
  }
 ],
 "metadata": {
  "kernelspec": {
   "display_name": "Python 3",
   "language": "python",
   "name": "python3"
  },
  "language_info": {
   "codemirror_mode": {
    "name": "ipython",
    "version": 3
   },
   "file_extension": ".py",
   "mimetype": "text/x-python",
   "name": "python",
   "nbconvert_exporter": "python",
   "pygments_lexer": "ipython3",
   "version": "3.11.1"
  },
  "orig_nbformat": 4,
  "vscode": {
   "interpreter": {
    "hash": "8edbb0d3f40c2802eb7ad62fd70c65dcbbbe77418e4cb9f034c063b3c890c34a"
   }
  }
 },
 "nbformat": 4,
 "nbformat_minor": 2
}
